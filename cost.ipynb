{
 "cells": [
  {
   "cell_type": "code",
   "execution_count": 39,
   "metadata": {},
   "outputs": [
    {
     "name": "stdout",
     "output_type": "stream",
     "text": [
      "Cluster Centroids:\n",
      "Cluster 0: [-12.5   2. ]\n",
      "Cluster 1: [25.  0.]\n",
      "Cluster 2: [-12.5  -2. ]\n",
      "Cost (Phi) = 629.0\n"
     ]
    }
   ],
   "source": [
    "import numpy as np\n",
    "\n",
    "def cluster_centroids(points, labels):\n",
    "    unique_labels = np.unique(labels)\n",
    "    centroids = []\n",
    "    for label in unique_labels:\n",
    "        cluster_points = points[labels == label]\n",
    "        if len(cluster_points) > 0:\n",
    "            centroid = np.mean(cluster_points, axis=0)\n",
    "            centroids.append(centroid)\n",
    "    return np.array(centroids)\n",
    "\n",
    "def euclidean_distance_squared(point1, point2):\n",
    "    return np.sum((point1 - point2) ** 2)\n",
    "\n",
    "def assign_points_to_clusters(data_points, cluster_centers):\n",
    "    labels = np.argmin(np.array([[euclidean_distance_squared(point, center) for center in cluster_centers] for point in data_points]), axis=1)\n",
    "    return labels\n",
    "\n",
    "def calculate_cost(data_points, cluster_centers):\n",
    "    labels = assign_points_to_clusters(data_points, cluster_centers)\n",
    "    total_cost = 0\n",
    "    for i, point in enumerate(data_points):\n",
    "        center = cluster_centers[labels[i]]\n",
    "        distance = euclidean_distance_squared(point, center)\n",
    "        total_cost += distance\n",
    "    return total_cost\n",
    "\n",
    "data_points = np.array([[0, 3], [25, 0], [0, -3], [-25, 1], [-25, -1]])\n",
    "cluster_centers = np.array([[-25, 1], [25, 0], [-25, -1]])\n",
    "\n",
    "# Assign data points to clusters\n",
    "labels = assign_points_to_clusters(data_points, cluster_centers)\n",
    "\n",
    "# Find the centroids for each cluster\n",
    "centroids = cluster_centroids(data_points, labels)\n",
    "\n",
    "cost = calculate_cost(data_points, cluster_centers)\n",
    "\n",
    "print(\"Cluster Centroids:\")\n",
    "for i, centroid in enumerate(centroids):\n",
    "    print(f\"Cluster {i}: {centroid}\")\n",
    "\n",
    "cost = calculate_cost(data_points, centroids)\n",
    "print(f\"Cost (Phi) = {cost}\")"
   ]
  }
 ],
 "metadata": {
  "kernelspec": {
   "display_name": "tensorflow",
   "language": "python",
   "name": "python3"
  },
  "language_info": {
   "codemirror_mode": {
    "name": "ipython",
    "version": 3
   },
   "file_extension": ".py",
   "mimetype": "text/x-python",
   "name": "python",
   "nbconvert_exporter": "python",
   "pygments_lexer": "ipython3",
   "version": "3.10.12"
  }
 },
 "nbformat": 4,
 "nbformat_minor": 2
}
