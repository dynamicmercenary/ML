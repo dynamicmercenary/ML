{
 "cells": [
  {
   "cell_type": "code",
   "execution_count": 57,
   "metadata": {},
   "outputs": [],
   "source": [
    "import numpy as np\n",
    "from sklearn.svm import SVC\n",
    "import pandas as pd\n",
    "import requests\n",
    "import os\n",
    "from sklearn.metrics import r2_score\n",
    "\n",
    "from sklearn.ensemble import RandomForestRegressor\n",
    "from sklearn.model_selection import GridSearchCV"
   ]
  },
  {
   "cell_type": "code",
   "execution_count": 46,
   "metadata": {},
   "outputs": [],
   "source": [
    "url_data = 'https://raw.githubusercontent.com/christian-igel/ML/main/data/NFI_filtered_cleaned.csv'\n",
    "fn = 'ML_filtered_cleaned.csv'\n",
    "\n",
    "if not os.access(fn, os.R_OK):\n",
    "    print('downloading', url_data)\n",
    "    try:\n",
    "        r = requests.get(url_data)\n",
    "        r.raise_for_status()\n",
    "        open(fn, 'wb').write(r.content)\n",
    "    except Exception as e:\n",
    "        print('download failed:', e)\n",
    "\n",
    "df = pd.read_csv(fn)"
   ]
  },
  {
   "cell_type": "code",
   "execution_count": 47,
   "metadata": {},
   "outputs": [],
   "source": [
    "regression_target = \"BMag_ha\"\n",
    "classification_target = \"C_frac\"\n",
    "features = [\n",
    "    'h_mean_1_', 'h_mean_2_', 'h_std_1_', 'h_std_2_', 'h_coov_1_', 'h_coov_2_', 'h_skew_1_', 'h_skew_2_',\n",
    "    'IR_', 'h_q5_1_', 'h_q10_1_', 'h_q25_1_', 'h_q50_1_', 'h_q75_1_', 'h_q90_1_', 'h_q95_1_', 'h_q99_1_',\n",
    "    'h_q5_2_', 'h_q10_2_', 'h_q25_2_', 'h_q50_2_', 'h_q75_2_', 'h_q90_2_', 'h_q95_2_', 'h_q99_2_', \n",
    "    'red_q75', 'red_q50', 'red_q25', 'blue_q75', 'blue_q50', 'blue_q25', 'green_q75', 'green_q50', 'green_q25'\n",
    "]\n"
   ]
  },
  {
   "cell_type": "code",
   "execution_count": 48,
   "metadata": {},
   "outputs": [],
   "source": [
    "df_trainval = df.query(\"split in ['train', 'val']\")\n",
    "df_test = df.query(\"split == 'test'\")\n",
    "\n",
    "X_trainval = df_trainval[features]\n",
    "y_trainval = df_trainval[[regression_target]]\n",
    "y_trainval = y_trainval.values.ravel() # i use ravel() to flatten the 2D array into 1D array in order to  remove the warnings i get in the 2. task below\n",
    "\n",
    "X_test = df_test[features]\n",
    "y_test = df_test[[regression_target]]\n",
    "y_test = y_test.values.ravel() "
   ]
  },
  {
   "cell_type": "code",
   "execution_count": 49,
   "metadata": {},
   "outputs": [],
   "source": [
    "def compute_upper_bound_on_generalization_error_rf(model, X, y):\n",
    "\n",
    "    # Compute the number of possible predictions that the rf can make\n",
    "    num_predictions = 2 ** len(X_trainval.columns)\n",
    "\n",
    "    # Compute the generalization error bound\n",
    "    generalization_error_bound = np.sqrt((np.log(num_predictions) + np.log(2.0)) / (2 * len(X)))\n",
    "\n",
    "    return generalization_error_bound"
   ]
  },
  {
   "cell_type": "code",
   "execution_count": 50,
   "metadata": {},
   "outputs": [],
   "source": [
    "#This is only if you want to use rademacher instead. \n",
    "def compute_rademacher_complexity(model, X, y):\n",
    "\n",
    "    # Generate random Rademacher variables for each data point in the training set.\n",
    "    rademacher_variables = np.random.rand(len(X)) * 2 - 1\n",
    "\n",
    "    # Train the SVM on the training data, with the labels multiplied by the Rademacher variables.\n",
    "    model.fit(X, y * rademacher_variables)\n",
    "\n",
    "    # Compute the error of the SVM on the training data.\n",
    "    error = model.score(X, y)\n",
    "\n",
    "    return error\n",
    "\n",
    "def compute_upper_bound_on_generalization_error(model, X, y):\n",
    "\n",
    "    # Compute the Rademacher complexity of the SVM.\n",
    "    rademacher_complexity = compute_rademacher_complexity(model, X, y)\n",
    "\n",
    "    # Compute the generalization error bound.\n",
    "    generalization_error_bound = rademacher_complexity * np.sqrt(np.log(2) / (2 * len(X)))\n",
    "\n",
    "    return generalization_error_bound"
   ]
  },
  {
   "cell_type": "code",
   "execution_count": 51,
   "metadata": {},
   "outputs": [
    {
     "name": "stdout",
     "output_type": "stream",
     "text": [
      "Next n_estimator: 100\n",
      "Next depth: 1\n",
      "Next depth: 2\n",
      "Next depth: 3\n",
      "Next depth: 4\n",
      "Next depth: 5\n",
      "Next depth: 6\n",
      "Next depth: 7\n",
      "Next depth: 8\n",
      "Next depth: 9\n",
      "Next depth: 10\n",
      "Next n_estimator: 1000\n",
      "Next depth: 1\n",
      "Next depth: 2\n",
      "Next depth: 3\n",
      "Next depth: 4\n",
      "Next depth: 5\n",
      "Next depth: 6\n",
      "Next depth: 7\n",
      "Next depth: 8\n",
      "Next depth: 9\n",
      "Next depth: 10\n",
      "Done [RandomForestRegressor(max_depth=1), RandomForestRegressor(max_depth=2), RandomForestRegressor(max_depth=3), RandomForestRegressor(max_depth=4), RandomForestRegressor(max_depth=5), RandomForestRegressor(max_depth=6), RandomForestRegressor(max_depth=7), RandomForestRegressor(max_depth=8), RandomForestRegressor(max_depth=9), RandomForestRegressor(max_depth=10), RandomForestRegressor(max_depth=1, n_estimators=1000), RandomForestRegressor(max_depth=2, n_estimators=1000), RandomForestRegressor(max_depth=3, n_estimators=1000), RandomForestRegressor(max_depth=4, n_estimators=1000), RandomForestRegressor(max_depth=5, n_estimators=1000), RandomForestRegressor(max_depth=6, n_estimators=1000), RandomForestRegressor(max_depth=7, n_estimators=1000), RandomForestRegressor(max_depth=8, n_estimators=1000), RandomForestRegressor(max_depth=9, n_estimators=1000), RandomForestRegressor(max_depth=10, n_estimators=1000)]\n",
      "Next rf: RandomForestRegressor(max_depth=1)\n",
      "Next rf: RandomForestRegressor(max_depth=2)\n",
      "Next rf: RandomForestRegressor(max_depth=3)\n",
      "Next rf: RandomForestRegressor(max_depth=4)\n",
      "Next rf: RandomForestRegressor(max_depth=5)\n",
      "Next rf: RandomForestRegressor(max_depth=6)\n",
      "Next rf: RandomForestRegressor(max_depth=7)\n",
      "Next rf: RandomForestRegressor(max_depth=8)\n",
      "Next rf: RandomForestRegressor(max_depth=9)\n",
      "Next rf: RandomForestRegressor(max_depth=10)\n",
      "Next rf: RandomForestRegressor(max_depth=1, n_estimators=1000)\n",
      "Next rf: RandomForestRegressor(max_depth=2, n_estimators=1000)\n",
      "Next rf: RandomForestRegressor(max_depth=3, n_estimators=1000)\n",
      "Next rf: RandomForestRegressor(max_depth=4, n_estimators=1000)\n",
      "Next rf: RandomForestRegressor(max_depth=5, n_estimators=1000)\n",
      "Next rf: RandomForestRegressor(max_depth=6, n_estimators=1000)\n",
      "Next rf: RandomForestRegressor(max_depth=7, n_estimators=1000)\n",
      "Next rf: RandomForestRegressor(max_depth=8, n_estimators=1000)\n",
      "Next rf: RandomForestRegressor(max_depth=9, n_estimators=1000)\n",
      "Next rf: RandomForestRegressor(max_depth=10, n_estimators=1000)\n",
      "Done [0.06737728826893888, 0.06737728826893888, 0.06737728826893888, 0.06737728826893888, 0.06737728826893888, 0.06737728826893888, 0.06737728826893888, 0.06737728826893888, 0.06737728826893888, 0.06737728826893888, 0.06737728826893888, 0.06737728826893888, 0.06737728826893888, 0.06737728826893888, 0.06737728826893888, 0.06737728826893888, 0.06737728826893888, 0.06737728826893888, 0.06737728826893888, 0.06737728826893888]\n"
     ]
    },
    {
     "data": {
      "text/html": [
       "<style>#sk-container-id-1 {color: black;}#sk-container-id-1 pre{padding: 0;}#sk-container-id-1 div.sk-toggleable {background-color: white;}#sk-container-id-1 label.sk-toggleable__label {cursor: pointer;display: block;width: 100%;margin-bottom: 0;padding: 0.3em;box-sizing: border-box;text-align: center;}#sk-container-id-1 label.sk-toggleable__label-arrow:before {content: \"▸\";float: left;margin-right: 0.25em;color: #696969;}#sk-container-id-1 label.sk-toggleable__label-arrow:hover:before {color: black;}#sk-container-id-1 div.sk-estimator:hover label.sk-toggleable__label-arrow:before {color: black;}#sk-container-id-1 div.sk-toggleable__content {max-height: 0;max-width: 0;overflow: hidden;text-align: left;background-color: #f0f8ff;}#sk-container-id-1 div.sk-toggleable__content pre {margin: 0.2em;color: black;border-radius: 0.25em;background-color: #f0f8ff;}#sk-container-id-1 input.sk-toggleable__control:checked~div.sk-toggleable__content {max-height: 200px;max-width: 100%;overflow: auto;}#sk-container-id-1 input.sk-toggleable__control:checked~label.sk-toggleable__label-arrow:before {content: \"▾\";}#sk-container-id-1 div.sk-estimator input.sk-toggleable__control:checked~label.sk-toggleable__label {background-color: #d4ebff;}#sk-container-id-1 div.sk-label input.sk-toggleable__control:checked~label.sk-toggleable__label {background-color: #d4ebff;}#sk-container-id-1 input.sk-hidden--visually {border: 0;clip: rect(1px 1px 1px 1px);clip: rect(1px, 1px, 1px, 1px);height: 1px;margin: -1px;overflow: hidden;padding: 0;position: absolute;width: 1px;}#sk-container-id-1 div.sk-estimator {font-family: monospace;background-color: #f0f8ff;border: 1px dotted black;border-radius: 0.25em;box-sizing: border-box;margin-bottom: 0.5em;}#sk-container-id-1 div.sk-estimator:hover {background-color: #d4ebff;}#sk-container-id-1 div.sk-parallel-item::after {content: \"\";width: 100%;border-bottom: 1px solid gray;flex-grow: 1;}#sk-container-id-1 div.sk-label:hover label.sk-toggleable__label {background-color: #d4ebff;}#sk-container-id-1 div.sk-serial::before {content: \"\";position: absolute;border-left: 1px solid gray;box-sizing: border-box;top: 0;bottom: 0;left: 50%;z-index: 0;}#sk-container-id-1 div.sk-serial {display: flex;flex-direction: column;align-items: center;background-color: white;padding-right: 0.2em;padding-left: 0.2em;position: relative;}#sk-container-id-1 div.sk-item {position: relative;z-index: 1;}#sk-container-id-1 div.sk-parallel {display: flex;align-items: stretch;justify-content: center;background-color: white;position: relative;}#sk-container-id-1 div.sk-item::before, #sk-container-id-1 div.sk-parallel-item::before {content: \"\";position: absolute;border-left: 1px solid gray;box-sizing: border-box;top: 0;bottom: 0;left: 50%;z-index: -1;}#sk-container-id-1 div.sk-parallel-item {display: flex;flex-direction: column;z-index: 1;position: relative;background-color: white;}#sk-container-id-1 div.sk-parallel-item:first-child::after {align-self: flex-end;width: 50%;}#sk-container-id-1 div.sk-parallel-item:last-child::after {align-self: flex-start;width: 50%;}#sk-container-id-1 div.sk-parallel-item:only-child::after {width: 0;}#sk-container-id-1 div.sk-dashed-wrapped {border: 1px dashed gray;margin: 0 0.4em 0.5em 0.4em;box-sizing: border-box;padding-bottom: 0.4em;background-color: white;}#sk-container-id-1 div.sk-label label {font-family: monospace;font-weight: bold;display: inline-block;line-height: 1.2em;}#sk-container-id-1 div.sk-label-container {text-align: center;}#sk-container-id-1 div.sk-container {/* jupyter's `normalize.less` sets `[hidden] { display: none; }` but bootstrap.min.css set `[hidden] { display: none !important; }` so we also need the `!important` here to be able to override the default hidden behavior on the sphinx rendered scikit-learn.org. See: https://github.com/scikit-learn/scikit-learn/issues/21755 */display: inline-block !important;position: relative;}#sk-container-id-1 div.sk-text-repr-fallback {display: none;}</style><div id=\"sk-container-id-1\" class=\"sk-top-container\"><div class=\"sk-text-repr-fallback\"><pre>RandomForestRegressor(max_depth=1)</pre><b>In a Jupyter environment, please rerun this cell to show the HTML representation or trust the notebook. <br />On GitHub, the HTML representation is unable to render, please try loading this page with nbviewer.org.</b></div><div class=\"sk-container\" hidden><div class=\"sk-item\"><div class=\"sk-estimator sk-toggleable\"><input class=\"sk-toggleable__control sk-hidden--visually\" id=\"sk-estimator-id-1\" type=\"checkbox\" checked><label for=\"sk-estimator-id-1\" class=\"sk-toggleable__label sk-toggleable__label-arrow\">RandomForestRegressor</label><div class=\"sk-toggleable__content\"><pre>RandomForestRegressor(max_depth=1)</pre></div></div></div></div></div>"
      ],
      "text/plain": [
       "RandomForestRegressor(max_depth=1)"
      ]
     },
     "execution_count": 51,
     "metadata": {},
     "output_type": "execute_result"
    }
   ],
   "source": [
    "# Define the range of hyperparameters to try\n",
    "n_estimators = [100, 1000]\n",
    "max_depth = np.linspace(1, 10, 10)\n",
    "\n",
    "# Cast the `max_depth` and 'n_estimators' parameter to an integer\n",
    "max_depth = max_depth.astype(int)\n",
    "#n_estimators = n_estimators.astype(int)\n",
    "\n",
    "# Train the random forest classifier with different hyperparameters\n",
    "random_forests = []\n",
    "for n_estimator in n_estimators:\n",
    "    print(f\"Next n_estimator: {n_estimator}\")\n",
    "    for depth in max_depth:\n",
    "        print(f\"Next depth: {depth}\")\n",
    "        rf = RandomForestRegressor(n_estimators=n_estimator, max_depth=depth)\n",
    "        rf.fit(X_trainval, y_trainval)\n",
    "        random_forests.append(rf)\n",
    "print(f\"Done {random_forests}\")\n",
    "\n",
    "# Compute the upper bound on the generalization error for each hyperparameter setting\n",
    "upper_bounds = []\n",
    "for rf in random_forests:\n",
    "    print(f\"Next rf: {rf}\")\n",
    "    upper_bound = compute_upper_bound_on_generalization_error_rf(rf, X_trainval, y_trainval)\n",
    "    print(f\"Done {upper_bound}\")\n",
    "    upper_bounds.append(upper_bound)\n",
    "print(f\"Done {upper_bounds}\")\n",
    "\n",
    "# Select the hyperparameter setting that minimizes the upper bound on the generalization error\n",
    "n_estimator_opt = n_estimators[np.argmin(upper_bounds)]\n",
    "max_depth_opt = max_depth[np.argmin(upper_bounds)]\n",
    "\n",
    "# Train the random forest classifier with the optimal hyperparameters\n",
    "rf_opt = RandomForestRegressor(n_estimators=n_estimator_opt, max_depth=max_depth_opt)\n",
    "rf_opt.fit(X_trainval, y_trainval)"
   ]
  },
  {
   "cell_type": "code",
   "execution_count": 54,
   "metadata": {},
   "outputs": [
    {
     "name": "stdout",
     "output_type": "stream",
     "text": [
      "Best Random Forest R^2 Score: 0.5634193875213307\n"
     ]
    }
   ],
   "source": [
    "y_pred_randomF = rf_opt.predict(X_test)\n",
    "r2_randomF = r2_score(y_test, y_pred_randomF)\n",
    "print(f\"Best Random Forest R^2 Score: {r2_randomF}\")"
   ]
  },
  {
   "cell_type": "code",
   "execution_count": 59,
   "metadata": {},
   "outputs": [
    {
     "name": "stdout",
     "output_type": "stream",
     "text": [
      "Fitting 5 folds for each of 6 candidates, totalling 30 fits\n",
      "[CV] END ......................max_depth=5, n_estimators=100; total time=   1.8s\n",
      "[CV] END ......................max_depth=5, n_estimators=100; total time=   1.7s\n",
      "[CV] END ......................max_depth=5, n_estimators=100; total time=   1.8s\n",
      "[CV] END ......................max_depth=5, n_estimators=100; total time=   1.8s\n",
      "[CV] END ......................max_depth=5, n_estimators=100; total time=   1.7s\n",
      "[CV] END .....................max_depth=5, n_estimators=1000; total time=  17.5s\n",
      "[CV] END .....................max_depth=5, n_estimators=1000; total time=  17.4s\n",
      "[CV] END .....................max_depth=5, n_estimators=1000; total time=  17.5s\n",
      "[CV] END .....................max_depth=5, n_estimators=1000; total time=  17.5s\n",
      "[CV] END .....................max_depth=5, n_estimators=1000; total time=  17.4s\n",
      "[CV] END .....................max_depth=10, n_estimators=100; total time=   3.3s\n",
      "[CV] END .....................max_depth=10, n_estimators=100; total time=   3.3s\n",
      "[CV] END .....................max_depth=10, n_estimators=100; total time=   3.3s\n",
      "[CV] END .....................max_depth=10, n_estimators=100; total time=   3.3s\n",
      "[CV] END .....................max_depth=10, n_estimators=100; total time=   3.3s\n",
      "[CV] END ....................max_depth=10, n_estimators=1000; total time=  32.6s\n",
      "[CV] END ....................max_depth=10, n_estimators=1000; total time=  32.6s\n",
      "[CV] END ....................max_depth=10, n_estimators=1000; total time=  32.8s\n",
      "[CV] END ....................max_depth=10, n_estimators=1000; total time=  33.0s\n",
      "[CV] END ....................max_depth=10, n_estimators=1000; total time=  32.7s\n",
      "[CV] END .....................max_depth=15, n_estimators=100; total time=   4.3s\n",
      "[CV] END .....................max_depth=15, n_estimators=100; total time=   4.3s\n",
      "[CV] END .....................max_depth=15, n_estimators=100; total time=   4.3s\n",
      "[CV] END .....................max_depth=15, n_estimators=100; total time=   4.3s\n",
      "[CV] END .....................max_depth=15, n_estimators=100; total time=   4.4s\n",
      "[CV] END ....................max_depth=15, n_estimators=1000; total time=  43.7s\n",
      "[CV] END ....................max_depth=15, n_estimators=1000; total time=  43.1s\n",
      "[CV] END ....................max_depth=15, n_estimators=1000; total time=  42.6s\n",
      "[CV] END ....................max_depth=15, n_estimators=1000; total time=  42.7s\n",
      "[CV] END ....................max_depth=15, n_estimators=1000; total time=  42.8s\n",
      "Generalization error bound: 0.877376937312051\n"
     ]
    }
   ],
   "source": [
    "# Define a grid of hyperparameters to try\n",
    "param_grid = {\n",
    "    'n_estimators': [100, 1000],\n",
    "    'max_depth': [5, 10, 15]\n",
    "}\n",
    "\n",
    "# Create a grid search object\n",
    "grid_search = GridSearchCV(RandomForestRegressor(), param_grid, cv=5, verbose=2)\n",
    "\n",
    "# Fit the grid search object to the training data\n",
    "grid_search.fit(X_trainval, y_trainval)\n",
    "\n",
    "# Get the best random forest\n",
    "best_rf = grid_search.best_estimator_\n",
    "\n",
    "# Compute the training error of the random forest\n",
    "training_error = best_rf.score(X_trainval, y_trainval)\n",
    "\n",
    "# Compute the generalization error bound\n",
    "generalization_error_bound = np.sqrt(np.log(2) / (2 * len(X_trainval.columns))) + training_error\n",
    "\n",
    "# Print the generalization error bound\n",
    "print(\"Generalization error bound:\", generalization_error_bound)"
   ]
  },
  {
   "cell_type": "code",
   "execution_count": 60,
   "metadata": {},
   "outputs": [
    {
     "name": "stdout",
     "output_type": "stream",
     "text": [
      "Best Random Forest R^2 Score: 0.7127832927368524\n"
     ]
    }
   ],
   "source": [
    "y_pred_randomF = best_rf.predict(X_test)\n",
    "r2_randomF = r2_score(y_test, y_pred_randomF)\n",
    "print(f\"Best Random Forest R^2 Score: {r2_randomF}\")"
   ]
  }
 ],
 "metadata": {
  "kernelspec": {
   "display_name": "tensorflow",
   "language": "python",
   "name": "python3"
  },
  "language_info": {
   "codemirror_mode": {
    "name": "ipython",
    "version": 3
   },
   "file_extension": ".py",
   "mimetype": "text/x-python",
   "name": "python",
   "nbconvert_exporter": "python",
   "pygments_lexer": "ipython3",
   "version": "3.10.12"
  }
 },
 "nbformat": 4,
 "nbformat_minor": 2
}
